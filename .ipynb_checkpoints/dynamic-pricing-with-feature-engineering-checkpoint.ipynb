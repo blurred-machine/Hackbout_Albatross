{
 "cells": [
  {
   "cell_type": "code",
   "execution_count": 1,
   "metadata": {
    "_cell_guid": "26af60ec-1904-4b24-9f97-d26bed799e47",
    "_uuid": "0347168572ec8db00987543c3feeb6d803c337de",
    "collapsed": true
   },
   "outputs": [
    {
     "name": "stdout",
     "output_type": "stream",
     "text": [
      "sample_submission.csv\n",
      "test.tsv\n",
      "train.tsv\n",
      "\n"
     ]
    }
   ],
   "source": [
    "# This Python 3 environment comes with many helpful analytics libraries installed\n",
    "# It is defined by the kaggle/python docker image: https://github.com/kaggle/docker-python\n",
    "# For example, here's several helpful packages to load in \n",
    "\n",
    "import numpy as np # linear algebra\n",
    "import pandas as pd # data processing, CSV file I/O (e.g. pd.read_csv)\n",
    "\n",
    "# Input data files are available in the \"../input/\" directory.\n",
    "# For example, running this (by clicking run or pressing Shift+Enter) will list the files in the input directory\n",
    "\n",
    "from subprocess import check_output\n",
    "print(check_output([\"ls\", \"../input\"]).decode(\"utf8\"))\n",
    "\n",
    "# Any results you write to the current directory are saved as output.\n",
    "\n",
    "train = pd.read_csv(\"../input/train.tsv\", sep='\\t')\n",
    "test = pd.read_csv(\"../input/test.tsv\", sep='\\t')\n",
    "\n",
    "\n"
   ]
  },
  {
   "cell_type": "code",
   "execution_count": 2,
   "metadata": {
    "_cell_guid": "0b757d4c-3fcf-4fe1-951a-2e739eb303d4",
    "_uuid": "3d6abd6e7b954b8dff63fb55e7e074c688c241ea",
    "collapsed": true
   },
   "outputs": [],
   "source": []
  },
  {
   "cell_type": "code",
   "execution_count": 2,
   "metadata": {
    "_cell_guid": "a25ed9b1-eb32-4170-b5d1-a2c8e6f1ad5d",
    "_uuid": "5e202ac8d7b130c8446e69e3f64ec60aff42a825",
    "collapsed": true
   },
   "outputs": [],
   "source": [
    "# new features\n",
    "# len of description\n",
    "\n",
    "train['item_description'] = train['item_description'].astype(str)\n",
    "test['item_description'] = test['item_description'].astype(str)\n",
    "\n",
    "train['des_len'] = train['item_description'].apply(lambda x: len(x))\n",
    "test['des_len'] = test['item_description'].apply(lambda x: len(x))"
   ]
  },
  {
   "cell_type": "code",
   "execution_count": 3,
   "metadata": {
    "_cell_guid": "b58c3221-1eeb-45ff-8fd5-c25e900e236a",
    "_uuid": "e7d507fc611269b3cbc4cfeca420edbfd441124c",
    "collapsed": true
   },
   "outputs": [],
   "source": [
    "# words in description\n",
    "train['word_count'] = train['item_description'].apply(lambda x: len(x.split()))\n",
    "test['word_count'] = test['item_description'].apply(lambda x: len(x.split()))"
   ]
  },
  {
   "cell_type": "code",
   "execution_count": 4,
   "metadata": {
    "_cell_guid": "8b37a629-9a5a-47ac-91c4-0eb93571bedf",
    "_uuid": "72b0939b324697f168c32de65fc4a4faf0711e88",
    "collapsed": true
   },
   "outputs": [],
   "source": [
    "# men len of words in description inversed and scaled\n",
    "train['mean_des'] = train['item_description'].apply(lambda x: float(len(x.split())) / len(x))  * 10\n",
    "test['mean_des'] = test['item_description'].apply(lambda x: float(len(x.split())) / len(x)) * 10 \n"
   ]
  },
  {
   "cell_type": "code",
   "execution_count": 5,
   "metadata": {
    "_cell_guid": "f6ed68b7-f1cd-48f9-8b5f-8504aabcf3fe",
    "_uuid": "0461a2c3629e369d9bc39793648dfb3f31f26a55",
    "collapsed": true
   },
   "outputs": [],
   "source": [
    "# length of name\n",
    "train['name_len'] = train['name'].apply(lambda x: len(x))\n",
    "test['name_len'] = test['name'].apply(lambda x: len(x))"
   ]
  },
  {
   "cell_type": "code",
   "execution_count": 6,
   "metadata": {
    "_cell_guid": "0d42bb32-8657-478a-babf-6e95b59d4489",
    "_uuid": "4c16298bc03ffa723a632779a84fbafeaefe6039",
    "collapsed": true
   },
   "outputs": [],
   "source": [
    "# words in name\n",
    "train['word_name'] = train['name'].apply(lambda x: len(x.split()))\n",
    "test['word_name'] = test['name'].apply(lambda x: len(x.split()))"
   ]
  },
  {
   "cell_type": "code",
   "execution_count": 7,
   "metadata": {
    "_cell_guid": "55829eaf-ae80-4a59-9532-3243f2ab0ee7",
    "_uuid": "098ef233be874e8f6b814ba692e1f18d6a44dec8",
    "collapsed": true
   },
   "outputs": [],
   "source": [
    "# men len of words in name inversed and scaled\n",
    "train['mean_name'] = train['name'].apply(lambda x: float(len(x.split())) / len(x))  * 10\n",
    "test['mean_name'] = test['name'].apply(lambda x: float(len(x.split())) / len(x)) * 10 "
   ]
  },
  {
   "cell_type": "code",
   "execution_count": 8,
   "metadata": {
    "_cell_guid": "6f4f55c4-95f1-4223-9b9a-007ce3f28aa4",
    "_uuid": "57c303b36932105c47a823dcdecab8d0196a82ab",
    "collapsed": true
   },
   "outputs": [
    {
     "data": {
      "text/html": [
       "<div>\n",
       "<style>\n",
       "    .dataframe thead tr:only-child th {\n",
       "        text-align: right;\n",
       "    }\n",
       "\n",
       "    .dataframe thead th {\n",
       "        text-align: left;\n",
       "    }\n",
       "\n",
       "    .dataframe tbody tr th {\n",
       "        vertical-align: top;\n",
       "    }\n",
       "</style>\n",
       "<table border=\"1\" class=\"dataframe\">\n",
       "  <thead>\n",
       "    <tr style=\"text-align: right;\">\n",
       "      <th></th>\n",
       "      <th>train_id</th>\n",
       "      <th>name</th>\n",
       "      <th>item_condition_id</th>\n",
       "      <th>category_name</th>\n",
       "      <th>brand_name</th>\n",
       "      <th>price</th>\n",
       "      <th>shipping</th>\n",
       "      <th>item_description</th>\n",
       "      <th>des_len</th>\n",
       "      <th>word_count</th>\n",
       "      <th>mean_des</th>\n",
       "      <th>name_len</th>\n",
       "      <th>word_name</th>\n",
       "      <th>mean_name</th>\n",
       "    </tr>\n",
       "  </thead>\n",
       "  <tbody>\n",
       "    <tr>\n",
       "      <th>0</th>\n",
       "      <td>0</td>\n",
       "      <td>MLB Cincinnati Reds T Shirt Size XL</td>\n",
       "      <td>3</td>\n",
       "      <td>Men/Tops/T-shirts</td>\n",
       "      <td>NaN</td>\n",
       "      <td>10.0</td>\n",
       "      <td>1</td>\n",
       "      <td>No description yet</td>\n",
       "      <td>18</td>\n",
       "      <td>3</td>\n",
       "      <td>1.666667</td>\n",
       "      <td>35</td>\n",
       "      <td>7</td>\n",
       "      <td>2.000000</td>\n",
       "    </tr>\n",
       "    <tr>\n",
       "      <th>1</th>\n",
       "      <td>1</td>\n",
       "      <td>Razer BlackWidow Chroma Keyboard</td>\n",
       "      <td>3</td>\n",
       "      <td>Electronics/Computers &amp; Tablets/Components &amp; P...</td>\n",
       "      <td>Razer</td>\n",
       "      <td>52.0</td>\n",
       "      <td>0</td>\n",
       "      <td>This keyboard is in great condition and works ...</td>\n",
       "      <td>188</td>\n",
       "      <td>36</td>\n",
       "      <td>1.914894</td>\n",
       "      <td>32</td>\n",
       "      <td>4</td>\n",
       "      <td>1.250000</td>\n",
       "    </tr>\n",
       "    <tr>\n",
       "      <th>2</th>\n",
       "      <td>2</td>\n",
       "      <td>AVA-VIV Blouse</td>\n",
       "      <td>1</td>\n",
       "      <td>Women/Tops &amp; Blouses/Blouse</td>\n",
       "      <td>Target</td>\n",
       "      <td>10.0</td>\n",
       "      <td>1</td>\n",
       "      <td>Adorable top with a hint of lace and a key hol...</td>\n",
       "      <td>124</td>\n",
       "      <td>29</td>\n",
       "      <td>2.338710</td>\n",
       "      <td>14</td>\n",
       "      <td>2</td>\n",
       "      <td>1.428571</td>\n",
       "    </tr>\n",
       "    <tr>\n",
       "      <th>3</th>\n",
       "      <td>3</td>\n",
       "      <td>Leather Horse Statues</td>\n",
       "      <td>1</td>\n",
       "      <td>Home/Home Décor/Home Décor Accents</td>\n",
       "      <td>NaN</td>\n",
       "      <td>35.0</td>\n",
       "      <td>1</td>\n",
       "      <td>New with tags. Leather horses. Retail for [rm]...</td>\n",
       "      <td>173</td>\n",
       "      <td>32</td>\n",
       "      <td>1.849711</td>\n",
       "      <td>21</td>\n",
       "      <td>3</td>\n",
       "      <td>1.428571</td>\n",
       "    </tr>\n",
       "    <tr>\n",
       "      <th>4</th>\n",
       "      <td>4</td>\n",
       "      <td>24K GOLD plated rose</td>\n",
       "      <td>1</td>\n",
       "      <td>Women/Jewelry/Necklaces</td>\n",
       "      <td>NaN</td>\n",
       "      <td>44.0</td>\n",
       "      <td>0</td>\n",
       "      <td>Complete with certificate of authenticity</td>\n",
       "      <td>41</td>\n",
       "      <td>5</td>\n",
       "      <td>1.219512</td>\n",
       "      <td>20</td>\n",
       "      <td>4</td>\n",
       "      <td>2.000000</td>\n",
       "    </tr>\n",
       "  </tbody>\n",
       "</table>\n",
       "</div>"
      ],
      "text/plain": [
       "   train_id                                 name  item_condition_id  \\\n",
       "0         0  MLB Cincinnati Reds T Shirt Size XL                  3   \n",
       "1         1     Razer BlackWidow Chroma Keyboard                  3   \n",
       "2         2                       AVA-VIV Blouse                  1   \n",
       "3         3                Leather Horse Statues                  1   \n",
       "4         4                 24K GOLD plated rose                  1   \n",
       "\n",
       "                                       category_name brand_name  price  \\\n",
       "0                                  Men/Tops/T-shirts        NaN   10.0   \n",
       "1  Electronics/Computers & Tablets/Components & P...      Razer   52.0   \n",
       "2                        Women/Tops & Blouses/Blouse     Target   10.0   \n",
       "3                 Home/Home Décor/Home Décor Accents        NaN   35.0   \n",
       "4                            Women/Jewelry/Necklaces        NaN   44.0   \n",
       "\n",
       "   shipping                                   item_description  des_len  \\\n",
       "0         1                                 No description yet       18   \n",
       "1         0  This keyboard is in great condition and works ...      188   \n",
       "2         1  Adorable top with a hint of lace and a key hol...      124   \n",
       "3         1  New with tags. Leather horses. Retail for [rm]...      173   \n",
       "4         0          Complete with certificate of authenticity       41   \n",
       "\n",
       "   word_count  mean_des  name_len  word_name  mean_name  \n",
       "0           3  1.666667        35          7   2.000000  \n",
       "1          36  1.914894        32          4   1.250000  \n",
       "2          29  2.338710        14          2   1.428571  \n",
       "3          32  1.849711        21          3   1.428571  \n",
       "4           5  1.219512        20          4   2.000000  "
      ]
     },
     "execution_count": 8,
     "metadata": {},
     "output_type": "execute_result"
    }
   ],
   "source": [
    "train.head()"
   ]
  },
  {
   "cell_type": "code",
   "execution_count": 9,
   "metadata": {
    "_cell_guid": "b8d5e1a7-e112-42aa-8526-95b50cf9f7e9",
    "_uuid": "87c4b8d92552c225f6fbbd716f2782a0b41cfaa1",
    "collapsed": true
   },
   "outputs": [
    {
     "data": {
      "text/plain": [
       "train_id                  0\n",
       "name                      0\n",
       "item_condition_id         0\n",
       "category_name          6327\n",
       "brand_name           632682\n",
       "price                     0\n",
       "shipping                  0\n",
       "item_description          0\n",
       "des_len                   0\n",
       "word_count                0\n",
       "mean_des                  0\n",
       "name_len                  0\n",
       "word_name                 0\n",
       "mean_name                 0\n",
       "dtype: int64"
      ]
     },
     "execution_count": 9,
     "metadata": {},
     "output_type": "execute_result"
    }
   ],
   "source": [
    "# missing value imputation\n",
    "train.isnull().sum()"
   ]
  },
  {
   "cell_type": "code",
   "execution_count": 10,
   "metadata": {
    "_cell_guid": "f1e5a573-ebaa-4514-b9b2-31a2655ad2e5",
    "_uuid": "1fc89dc98cd3d7378e80f63382ceaa83b7ca7d8a",
    "collapsed": true
   },
   "outputs": [
    {
     "data": {
      "text/plain": [
       "Women/Athletic Apparel/Pants, Tights, Leggings                 60177\n",
       "Women/Tops & Blouses/T-Shirts                                  46380\n",
       "Beauty/Makeup/Face                                             34335\n",
       "Beauty/Makeup/Lips                                             29910\n",
       "Electronics/Video Games & Consoles/Games                       26557\n",
       "Beauty/Makeup/Eyes                                             25215\n",
       "Electronics/Cell Phones & Accessories/Cases, Covers & Skins    24676\n",
       "Women/Underwear/Bras                                           21274\n",
       "Women/Tops & Blouses/Blouse                                    20284\n",
       "Women/Tops & Blouses/Tank, Cami                                20284\n",
       "Women/Dresses/Above Knee, Mini                                 20082\n",
       "Women/Jewelry/Necklaces                                        19758\n",
       "Women/Athletic Apparel/Shorts                                  19528\n",
       "Beauty/Makeup/Makeup Palettes                                  19103\n",
       "Women/Shoes/Boots                                              18864\n",
       "Beauty/Fragrance/Women                                         18628\n",
       "Beauty/Skin Care/Face                                          15836\n",
       "Women/Women's Handbags/Shoulder Bag                            15328\n",
       "Men/Tops/T-shirts                                              15108\n",
       "Women/Dresses/Knee-Length                                      14770\n",
       "Women/Athletic Apparel/Shirts & Tops                           14738\n",
       "Women/Shoes/Sandals                                            14662\n",
       "Women/Jewelry/Bracelets                                        14497\n",
       "Men/Shoes/Athletic                                             14257\n",
       "Kids/Toys/Dolls & Accessories                                  13957\n",
       "Women/Women's Accessories/Wallets                              13616\n",
       "Women/Jeans/Slim, Skinny                                       13392\n",
       "Home/Home Décor/Home Décor Accents                             13004\n",
       "Women/Swimwear/Two-Piece                                       12758\n",
       "Women/Shoes/Athletic                                           12662\n",
       "                                                               ...  \n",
       "Handmade/Accessories/Mirror                                        1\n",
       "Vintage & Collectibles/Antique/Furniture                           1\n",
       "Handmade/Paper Goods/Pad                                           1\n",
       "Handmade/Needlecraft/Clothing                                      1\n",
       "Handmade/Woodworking/Accessories                                   1\n",
       "Handmade/Weddings/Bags and Purses                                  1\n",
       "Handmade/Accessories/Belt                                          1\n",
       "Handmade/Holidays/New Years                                        1\n",
       "Handmade/Geekery/Housewares                                        1\n",
       "Vintage & Collectibles/Housewares/Towel                            1\n",
       "Kids/Safety/Bathroom Safety                                        1\n",
       "Handmade/Housewares/Bathroom                                       1\n",
       "Handmade/Woodworking/Seasonal                                      1\n",
       "Handmade/Others/Educational                                        1\n",
       "Handmade/Dolls and Miniatures/Artist Bears                         1\n",
       "Handmade/Toys/Doll Clothes                                         1\n",
       "Home/Kids' Home Store/Nursery Furniture                            1\n",
       "Handmade/Dolls and Miniatures/Primitive                            1\n",
       "Handmade/Knitting/Bags and Purses                                  1\n",
       "Home/Home Décor/Doorstops                                          1\n",
       "Handmade/Bags and Purses/Other                                     1\n",
       "Handmade/Bags and Purses/Wallet                                    1\n",
       "Handmade/Patterns/Embroidery                                       1\n",
       "Handmade/Quilts/Bed                                                1\n",
       "Handmade/Ceramics and Pottery/Tiles                                1\n",
       "Handmade/Holidays/Thanksgiving                                     1\n",
       "Handmade/Furniture/Shelf                                           1\n",
       "Vintage & Collectibles/Furniture/Other                             1\n",
       "Vintage & Collectibles/Supplies/Ephemera                           1\n",
       "Vintage & Collectibles/Furniture/Storage                           1\n",
       "Name: category_name, Length: 1287, dtype: int64"
      ]
     },
     "execution_count": 10,
     "metadata": {},
     "output_type": "execute_result"
    }
   ],
   "source": [
    "train['category_name'].value_counts()"
   ]
  },
  {
   "cell_type": "code",
   "execution_count": 11,
   "metadata": {
    "_cell_guid": "a71e05a8-30ba-4be1-9f55-a80436ee4d07",
    "_uuid": "1cb75c446b23af90dc92d05114b2814a07692d67",
    "collapsed": true
   },
   "outputs": [],
   "source": [
    "train['category_name'].fillna('ppp/ppp/ppp', inplace=True)\n",
    "test['category_name'].fillna('ppp/ppp/ppp', inplace=True)"
   ]
  },
  {
   "cell_type": "code",
   "execution_count": 12,
   "metadata": {
    "_cell_guid": "aa824d1f-7375-482c-8618-fffc506739af",
    "_uuid": "d3448fe26cd3bbb2a9cbdbceb9a049bbdc121c81",
    "collapsed": true
   },
   "outputs": [],
   "source": [
    "#train[ train['category_name'].str.contains('Electronics') ]['price'].mean()"
   ]
  },
  {
   "cell_type": "code",
   "execution_count": 13,
   "metadata": {
    "_cell_guid": "fe1fa074-9149-45e1-b1a9-997e77412ba6",
    "_uuid": "226fe5c9d39d058ed8c1ff72c65292b08c3dfbeb",
    "collapsed": true
   },
   "outputs": [],
   "source": [
    "train['elec'] = train['category_name'].apply(lambda x : int('electronics' in x.lower()))\n",
    "test['elec'] = test['category_name'].apply(lambda x : int('electronics' in x.lower()))"
   ]
  },
  {
   "cell_type": "code",
   "execution_count": 14,
   "metadata": {
    "_cell_guid": "3e80cd1b-eb5c-4527-8a77-b631186fa91a",
    "_uuid": "b1b2429238d1af2b3a82781aa04103fe202de2d1",
    "collapsed": true
   },
   "outputs": [
    {
     "data": {
      "text/plain": [
       "Women/Athletic Apparel/Pants, Tights, Leggings                 60177\n",
       "Women/Tops & Blouses/T-Shirts                                  46380\n",
       "Beauty/Makeup/Face                                             34335\n",
       "Beauty/Makeup/Lips                                             29910\n",
       "Electronics/Video Games & Consoles/Games                       26557\n",
       "Beauty/Makeup/Eyes                                             25215\n",
       "Electronics/Cell Phones & Accessories/Cases, Covers & Skins    24676\n",
       "Women/Underwear/Bras                                           21274\n",
       "Women/Tops & Blouses/Tank, Cami                                20284\n",
       "Women/Tops & Blouses/Blouse                                    20284\n",
       "Women/Dresses/Above Knee, Mini                                 20082\n",
       "Women/Jewelry/Necklaces                                        19758\n",
       "Women/Athletic Apparel/Shorts                                  19528\n",
       "Beauty/Makeup/Makeup Palettes                                  19103\n",
       "Women/Shoes/Boots                                              18864\n",
       "Beauty/Fragrance/Women                                         18628\n",
       "Beauty/Skin Care/Face                                          15836\n",
       "Women/Women's Handbags/Shoulder Bag                            15328\n",
       "Men/Tops/T-shirts                                              15108\n",
       "Women/Dresses/Knee-Length                                      14770\n",
       "Women/Athletic Apparel/Shirts & Tops                           14738\n",
       "Women/Shoes/Sandals                                            14662\n",
       "Women/Jewelry/Bracelets                                        14497\n",
       "Men/Shoes/Athletic                                             14257\n",
       "Kids/Toys/Dolls & Accessories                                  13957\n",
       "Women/Women's Accessories/Wallets                              13616\n",
       "Women/Jeans/Slim, Skinny                                       13392\n",
       "Home/Home Décor/Home Décor Accents                             13004\n",
       "Women/Swimwear/Two-Piece                                       12758\n",
       "Women/Shoes/Athletic                                           12662\n",
       "                                                               ...  \n",
       "Handmade/Accessories/Mirror                                        1\n",
       "Vintage & Collectibles/Antique/Furniture                           1\n",
       "Handmade/Paper Goods/Pad                                           1\n",
       "Handmade/Needlecraft/Clothing                                      1\n",
       "Handmade/Woodworking/Accessories                                   1\n",
       "Handmade/Weddings/Bags and Purses                                  1\n",
       "Handmade/Accessories/Belt                                          1\n",
       "Handmade/Holidays/New Years                                        1\n",
       "Handmade/Geekery/Housewares                                        1\n",
       "Vintage & Collectibles/Housewares/Towel                            1\n",
       "Kids/Safety/Bathroom Safety                                        1\n",
       "Handmade/Housewares/Bathroom                                       1\n",
       "Handmade/Woodworking/Seasonal                                      1\n",
       "Handmade/Others/Educational                                        1\n",
       "Handmade/Dolls and Miniatures/Artist Bears                         1\n",
       "Handmade/Toys/Doll Clothes                                         1\n",
       "Home/Kids' Home Store/Nursery Furniture                            1\n",
       "Handmade/Dolls and Miniatures/Primitive                            1\n",
       "Handmade/Knitting/Bags and Purses                                  1\n",
       "Home/Home Décor/Doorstops                                          1\n",
       "Handmade/Bags and Purses/Other                                     1\n",
       "Handmade/Bags and Purses/Wallet                                    1\n",
       "Handmade/Patterns/Embroidery                                       1\n",
       "Handmade/Quilts/Bed                                                1\n",
       "Handmade/Ceramics and Pottery/Tiles                                1\n",
       "Handmade/Holidays/Thanksgiving                                     1\n",
       "Handmade/Furniture/Shelf                                           1\n",
       "Vintage & Collectibles/Furniture/Other                             1\n",
       "Vintage & Collectibles/Supplies/Ephemera                           1\n",
       "Vintage & Collectibles/Furniture/Storage                           1\n",
       "Name: category_name, Length: 1288, dtype: int64"
      ]
     },
     "execution_count": 14,
     "metadata": {},
     "output_type": "execute_result"
    }
   ],
   "source": [
    "train['category_name'].value_counts()"
   ]
  },
  {
   "cell_type": "code",
   "execution_count": 15,
   "metadata": {
    "_cell_guid": "b5eb129b-3454-4aee-aea3-672da04c00ad",
    "_uuid": "8148d445c58778c0b9a17062ebd71fa4e7648260",
    "collapsed": true
   },
   "outputs": [],
   "source": [
    "train['brand_name'].fillna('ttttttt', inplace=True)\n",
    "test['brand_name'].fillna('ttttttt', inplace=True)"
   ]
  },
  {
   "cell_type": "code",
   "execution_count": 16,
   "metadata": {
    "_cell_guid": "2b11546e-7045-4ec3-87a7-c0e61c628107",
    "_uuid": "a32cbcde742d5df8c59909d8d925dde04282e457",
    "collapsed": true
   },
   "outputs": [
    {
     "data": {
      "text/plain": [
       "test_id              0\n",
       "name                 0\n",
       "item_condition_id    0\n",
       "category_name        0\n",
       "brand_name           0\n",
       "shipping             0\n",
       "item_description     0\n",
       "des_len              0\n",
       "word_count           0\n",
       "mean_des             0\n",
       "name_len             0\n",
       "word_name            0\n",
       "mean_name            0\n",
       "elec                 0\n",
       "dtype: int64"
      ]
     },
     "execution_count": 16,
     "metadata": {},
     "output_type": "execute_result"
    }
   ],
   "source": [
    "train.isnull().sum()\n",
    "test.isnull().sum()"
   ]
  },
  {
   "cell_type": "code",
   "execution_count": 17,
   "metadata": {
    "_cell_guid": "43bc14c6-a689-4382-bd06-f11d242e95bd",
    "_uuid": "9466403ba46ba8791f1835212075ff4b103fc4ff",
    "collapsed": true
   },
   "outputs": [],
   "source": [
    "# types of category\n",
    "#train['cat_len'] = train['category_name'].apply(lambda x: len( x.split('/')))\n",
    "#test['cat_len'] = test['category_name'].apply(lambda x: len( x.split('/')))"
   ]
  },
  {
   "cell_type": "code",
   "execution_count": 18,
   "metadata": {
    "_cell_guid": "8f124d9c-1b81-43cd-9e3d-6685b7b2bec0",
    "_uuid": "29168589376d189b069dd090f8f8d212d1393fd7",
    "collapsed": true
   },
   "outputs": [],
   "source": [
    "#length of category words\n",
    "train['cat_lennn'] = train['category_name'].apply(lambda x: len(x))\n",
    "test['cat_lennn'] = test['category_name'].apply(lambda x: len(x))"
   ]
  },
  {
   "cell_type": "code",
   "execution_count": 19,
   "metadata": {
    "_cell_guid": "cae8e88a-79d8-441a-a389-026625e14e35",
    "_uuid": "53e7cef5fce8942bd42e3e7fb92a0a044c21de76",
    "collapsed": true
   },
   "outputs": [],
   "source": [
    "def was_priced(x):\n",
    "    return int('[rm]' in x)\n",
    "               \n",
    "train['rm'] = train['item_description'].apply( lambda x : was_priced(x))\n",
    "test['rm'] = test['item_description'].apply( lambda x : was_priced(x))\n",
    "               "
   ]
  },
  {
   "cell_type": "code",
   "execution_count": 20,
   "metadata": {
    "_cell_guid": "0c15f895-9e64-4588-9451-ecd62fc1cd22",
    "_uuid": "c6f98e71643290e0b285cc340af0537b905bed97",
    "collapsed": true
   },
   "outputs": [],
   "source": [
    "train['was_described'] = 1\n",
    "test['was_described'] = 1\n",
    "\n",
    "train.loc[ train['item_description'] == 'No description yet','was_described'] = 0\n",
    "test.loc[ test['item_description'] == 'No description yet','was_described'] = 0\n"
   ]
  },
  {
   "cell_type": "code",
   "execution_count": 21,
   "metadata": {
    "_cell_guid": "f63a4ef0-2627-474e-8137-2efc052b4bc7",
    "_uuid": "ea60f51449ae069e6b4a815e24b82d07bbd12f69",
    "collapsed": true
   },
   "outputs": [],
   "source": [
    "# description containes 'new' word\n",
    "train['new'] = train['item_description'].apply(lambda x : int('new' in x.lower()))\n",
    "test['new'] = test['item_description'].apply(lambda x : int('new' in x.lower()))"
   ]
  },
  {
   "cell_type": "code",
   "execution_count": 22,
   "metadata": {
    "_cell_guid": "8f5ec151-450a-4a93-9ecf-d84e6e91d086",
    "_uuid": "4b093b8babfbed94f71213317161392f36472b7a",
    "collapsed": true
   },
   "outputs": [
    {
     "data": {
      "text/html": [
       "<div>\n",
       "<style>\n",
       "    .dataframe thead tr:only-child th {\n",
       "        text-align: right;\n",
       "    }\n",
       "\n",
       "    .dataframe thead th {\n",
       "        text-align: left;\n",
       "    }\n",
       "\n",
       "    .dataframe tbody tr th {\n",
       "        vertical-align: top;\n",
       "    }\n",
       "</style>\n",
       "<table border=\"1\" class=\"dataframe\">\n",
       "  <thead>\n",
       "    <tr style=\"text-align: right;\">\n",
       "      <th></th>\n",
       "      <th>train_id</th>\n",
       "      <th>name</th>\n",
       "      <th>item_condition_id</th>\n",
       "      <th>category_name</th>\n",
       "      <th>brand_name</th>\n",
       "      <th>price</th>\n",
       "      <th>shipping</th>\n",
       "      <th>item_description</th>\n",
       "      <th>des_len</th>\n",
       "      <th>word_count</th>\n",
       "      <th>...</th>\n",
       "      <th>word_name</th>\n",
       "      <th>mean_name</th>\n",
       "      <th>elec</th>\n",
       "      <th>cat_lennn</th>\n",
       "      <th>rm</th>\n",
       "      <th>was_described</th>\n",
       "      <th>new</th>\n",
       "      <th>sub1</th>\n",
       "      <th>sub2</th>\n",
       "      <th>sub3</th>\n",
       "    </tr>\n",
       "  </thead>\n",
       "  <tbody>\n",
       "    <tr>\n",
       "      <th>0</th>\n",
       "      <td>0</td>\n",
       "      <td>MLB Cincinnati Reds T Shirt Size XL</td>\n",
       "      <td>3</td>\n",
       "      <td>Men/Tops/T-shirts</td>\n",
       "      <td>ttttttt</td>\n",
       "      <td>10.0</td>\n",
       "      <td>1</td>\n",
       "      <td>No description yet</td>\n",
       "      <td>18</td>\n",
       "      <td>3</td>\n",
       "      <td>...</td>\n",
       "      <td>7</td>\n",
       "      <td>2.000000</td>\n",
       "      <td>0</td>\n",
       "      <td>17</td>\n",
       "      <td>0</td>\n",
       "      <td>0</td>\n",
       "      <td>0</td>\n",
       "      <td>Men</td>\n",
       "      <td>Tops</td>\n",
       "      <td>T-shirts</td>\n",
       "    </tr>\n",
       "    <tr>\n",
       "      <th>1</th>\n",
       "      <td>1</td>\n",
       "      <td>Razer BlackWidow Chroma Keyboard</td>\n",
       "      <td>3</td>\n",
       "      <td>Electronics/Computers &amp; Tablets/Components &amp; P...</td>\n",
       "      <td>Razer</td>\n",
       "      <td>52.0</td>\n",
       "      <td>0</td>\n",
       "      <td>This keyboard is in great condition and works ...</td>\n",
       "      <td>188</td>\n",
       "      <td>36</td>\n",
       "      <td>...</td>\n",
       "      <td>4</td>\n",
       "      <td>1.250000</td>\n",
       "      <td>1</td>\n",
       "      <td>50</td>\n",
       "      <td>0</td>\n",
       "      <td>1</td>\n",
       "      <td>0</td>\n",
       "      <td>Electronics</td>\n",
       "      <td>Computers &amp; Tablets</td>\n",
       "      <td>Components &amp; Parts</td>\n",
       "    </tr>\n",
       "    <tr>\n",
       "      <th>2</th>\n",
       "      <td>2</td>\n",
       "      <td>AVA-VIV Blouse</td>\n",
       "      <td>1</td>\n",
       "      <td>Women/Tops &amp; Blouses/Blouse</td>\n",
       "      <td>Target</td>\n",
       "      <td>10.0</td>\n",
       "      <td>1</td>\n",
       "      <td>Adorable top with a hint of lace and a key hol...</td>\n",
       "      <td>124</td>\n",
       "      <td>29</td>\n",
       "      <td>...</td>\n",
       "      <td>2</td>\n",
       "      <td>1.428571</td>\n",
       "      <td>0</td>\n",
       "      <td>27</td>\n",
       "      <td>0</td>\n",
       "      <td>1</td>\n",
       "      <td>0</td>\n",
       "      <td>Women</td>\n",
       "      <td>Tops &amp; Blouses</td>\n",
       "      <td>Blouse</td>\n",
       "    </tr>\n",
       "    <tr>\n",
       "      <th>3</th>\n",
       "      <td>3</td>\n",
       "      <td>Leather Horse Statues</td>\n",
       "      <td>1</td>\n",
       "      <td>Home/Home Décor/Home Décor Accents</td>\n",
       "      <td>ttttttt</td>\n",
       "      <td>35.0</td>\n",
       "      <td>1</td>\n",
       "      <td>New with tags. Leather horses. Retail for [rm]...</td>\n",
       "      <td>173</td>\n",
       "      <td>32</td>\n",
       "      <td>...</td>\n",
       "      <td>3</td>\n",
       "      <td>1.428571</td>\n",
       "      <td>0</td>\n",
       "      <td>34</td>\n",
       "      <td>1</td>\n",
       "      <td>1</td>\n",
       "      <td>1</td>\n",
       "      <td>Home</td>\n",
       "      <td>Home Décor</td>\n",
       "      <td>Home Décor Accents</td>\n",
       "    </tr>\n",
       "    <tr>\n",
       "      <th>4</th>\n",
       "      <td>4</td>\n",
       "      <td>24K GOLD plated rose</td>\n",
       "      <td>1</td>\n",
       "      <td>Women/Jewelry/Necklaces</td>\n",
       "      <td>ttttttt</td>\n",
       "      <td>44.0</td>\n",
       "      <td>0</td>\n",
       "      <td>Complete with certificate of authenticity</td>\n",
       "      <td>41</td>\n",
       "      <td>5</td>\n",
       "      <td>...</td>\n",
       "      <td>4</td>\n",
       "      <td>2.000000</td>\n",
       "      <td>0</td>\n",
       "      <td>23</td>\n",
       "      <td>0</td>\n",
       "      <td>1</td>\n",
       "      <td>0</td>\n",
       "      <td>Women</td>\n",
       "      <td>Jewelry</td>\n",
       "      <td>Necklaces</td>\n",
       "    </tr>\n",
       "  </tbody>\n",
       "</table>\n",
       "<p>5 rows × 22 columns</p>\n",
       "</div>"
      ],
      "text/plain": [
       "   train_id                                 name  item_condition_id  \\\n",
       "0         0  MLB Cincinnati Reds T Shirt Size XL                  3   \n",
       "1         1     Razer BlackWidow Chroma Keyboard                  3   \n",
       "2         2                       AVA-VIV Blouse                  1   \n",
       "3         3                Leather Horse Statues                  1   \n",
       "4         4                 24K GOLD plated rose                  1   \n",
       "\n",
       "                                       category_name brand_name  price  \\\n",
       "0                                  Men/Tops/T-shirts    ttttttt   10.0   \n",
       "1  Electronics/Computers & Tablets/Components & P...      Razer   52.0   \n",
       "2                        Women/Tops & Blouses/Blouse     Target   10.0   \n",
       "3                 Home/Home Décor/Home Décor Accents    ttttttt   35.0   \n",
       "4                            Women/Jewelry/Necklaces    ttttttt   44.0   \n",
       "\n",
       "   shipping                                   item_description  des_len  \\\n",
       "0         1                                 No description yet       18   \n",
       "1         0  This keyboard is in great condition and works ...      188   \n",
       "2         1  Adorable top with a hint of lace and a key hol...      124   \n",
       "3         1  New with tags. Leather horses. Retail for [rm]...      173   \n",
       "4         0          Complete with certificate of authenticity       41   \n",
       "\n",
       "   word_count         ...          word_name  mean_name  elec  cat_lennn  rm  \\\n",
       "0           3         ...                  7   2.000000     0         17   0   \n",
       "1          36         ...                  4   1.250000     1         50   0   \n",
       "2          29         ...                  2   1.428571     0         27   0   \n",
       "3          32         ...                  3   1.428571     0         34   1   \n",
       "4           5         ...                  4   2.000000     0         23   0   \n",
       "\n",
       "   was_described  new         sub1                 sub2                sub3  \n",
       "0              0    0          Men                 Tops            T-shirts  \n",
       "1              1    0  Electronics  Computers & Tablets  Components & Parts  \n",
       "2              1    0        Women       Tops & Blouses              Blouse  \n",
       "3              1    1         Home           Home Décor  Home Décor Accents  \n",
       "4              1    0        Women              Jewelry           Necklaces  \n",
       "\n",
       "[5 rows x 22 columns]"
      ]
     },
     "execution_count": 22,
     "metadata": {},
     "output_type": "execute_result"
    }
   ],
   "source": [
    "# splitting subcategories of category_name\n",
    "train_cat = pd.DataFrame(train.category_name.str.split('/',2).tolist(),\n",
    "                                   columns = ['sub1','sub2', 'sub3'])\n",
    "train['sub1'] = train_cat['sub1']\n",
    "train['sub2'] = train_cat['sub2']\n",
    "train['sub3'] = train_cat['sub3']\n",
    "\n",
    "test_cat = pd.DataFrame(test.category_name.str.split('/',2).tolist(),\n",
    "                                   columns = ['sub1','sub2', 'sub3'])\n",
    "\n",
    "test['sub1'] = test_cat['sub1']\n",
    "test['sub2'] = test_cat['sub2']\n",
    "test['sub3'] = test_cat['sub3']\n",
    "\n",
    "train.head()"
   ]
  },
  {
   "cell_type": "code",
   "execution_count": 23,
   "metadata": {
    "_cell_guid": "494d250e-d3ee-4035-b327-ce59006eea0d",
    "_uuid": "84a61dc88ce79c8ae9024c0ca310db4ce367bf16",
    "collapsed": true
   },
   "outputs": [],
   "source": [
    "train['hand'] = train['category_name'].apply(lambda x : int('handmade' in x.lower()))\n",
    "test['hand'] = test['category_name'].apply(lambda x : int('handmade' in x.lower()))"
   ]
  },
  {
   "cell_type": "code",
   "execution_count": 24,
   "metadata": {
    "_cell_guid": "0d0b95f9-a361-4310-a8b9-595c0c0c2bcf",
    "_uuid": "578de2dbf82b5c5a768bc074b785fce21aa8c45e",
    "collapsed": true
   },
   "outputs": [],
   "source": [
    "train['men'] = train['category_name'].apply(lambda x : int('men' in x.lower()))\n",
    "test['men'] = test['category_name'].apply(lambda x : int('men' in x.lower()))"
   ]
  },
  {
   "cell_type": "code",
   "execution_count": 25,
   "metadata": {
    "_cell_guid": "ce36631f-f4ec-4012-aa2b-7113ec17dbd5",
    "_uuid": "6b78b504e808d2fe8aa81d27e4a99fec35516941",
    "collapsed": true
   },
   "outputs": [],
   "source": [
    "# int in description\n",
    "import re\n",
    "train['int_desc'] = train['item_description'].apply(lambda x : int(bool(re.search(r'\\d',x))))\n",
    "test['int_desc'] = test['item_description'].apply(lambda x : int(bool(re.search(r'\\d',x))))"
   ]
  },
  {
   "cell_type": "code",
   "execution_count": 26,
   "metadata": {
    "_cell_guid": "73caea52-bdc0-4953-b247-869f5988a30a",
    "_uuid": "bc3ba0dc454b06afb8572c321d6d0e51c04e6f19",
    "collapsed": true
   },
   "outputs": [],
   "source": [
    "# integer was present in name\n",
    "train['int_name'] = train['name'].apply(lambda x : int(bool(re.search(r'\\d',x))))\n",
    "test['int_name'] = test['name'].apply(lambda x : int(bool(re.search(r'\\d',x))))"
   ]
  },
  {
   "cell_type": "code",
   "execution_count": 27,
   "metadata": {
    "_cell_guid": "c6cf16ea-70f8-4846-b971-0f18c6a76a90",
    "_uuid": "17b07bd3f4abf0f2911ef67849464a8e66e13099",
    "collapsed": true
   },
   "outputs": [],
   "source": [
    "# word condition was present in description\n",
    "train['cond'] = train['item_description'].apply(lambda x : int('condition' in x.lower()))\n",
    "test['cond'] = test['item_description'].apply(lambda x : int('condition' in x.lower()))"
   ]
  },
  {
   "cell_type": "code",
   "execution_count": 28,
   "metadata": {
    "_cell_guid": "19d4af60-e3be-429f-9015-d822554a9100",
    "_uuid": "7e0d314c1a8dddbec15103e1503373f8c3b30add",
    "collapsed": true
   },
   "outputs": [],
   "source": []
  },
  {
   "cell_type": "code",
   "execution_count": 28,
   "metadata": {
    "_cell_guid": "d130bfef-7e90-4041-9d74-5f253dcf71a3",
    "_uuid": "05c211cbfbff97182e867a5c2d3c7df7f6be4bd2",
    "collapsed": true
   },
   "outputs": [
    {
     "data": {
      "text/plain": [
       "Women/Athletic Apparel/Pants, Tights, Leggings                 60177\n",
       "Women/Tops & Blouses/T-Shirts                                  46380\n",
       "Beauty/Makeup/Face                                             34335\n",
       "Beauty/Makeup/Lips                                             29910\n",
       "Electronics/Video Games & Consoles/Games                       26557\n",
       "Beauty/Makeup/Eyes                                             25215\n",
       "Electronics/Cell Phones & Accessories/Cases, Covers & Skins    24676\n",
       "Women/Underwear/Bras                                           21274\n",
       "Women/Tops & Blouses/Tank, Cami                                20284\n",
       "Women/Tops & Blouses/Blouse                                    20284\n",
       "Women/Dresses/Above Knee, Mini                                 20082\n",
       "Women/Jewelry/Necklaces                                        19758\n",
       "Women/Athletic Apparel/Shorts                                  19528\n",
       "Beauty/Makeup/Makeup Palettes                                  19103\n",
       "Women/Shoes/Boots                                              18864\n",
       "Beauty/Fragrance/Women                                         18628\n",
       "Beauty/Skin Care/Face                                          15836\n",
       "Women/Women's Handbags/Shoulder Bag                            15328\n",
       "Men/Tops/T-shirts                                              15108\n",
       "Women/Dresses/Knee-Length                                      14770\n",
       "Women/Athletic Apparel/Shirts & Tops                           14738\n",
       "Women/Shoes/Sandals                                            14662\n",
       "Women/Jewelry/Bracelets                                        14497\n",
       "Men/Shoes/Athletic                                             14257\n",
       "Kids/Toys/Dolls & Accessories                                  13957\n",
       "Women/Women's Accessories/Wallets                              13616\n",
       "Women/Jeans/Slim, Skinny                                       13392\n",
       "Home/Home Décor/Home Décor Accents                             13004\n",
       "Women/Swimwear/Two-Piece                                       12758\n",
       "Women/Shoes/Athletic                                           12662\n",
       "                                                               ...  \n",
       "Handmade/Accessories/Mirror                                        1\n",
       "Vintage & Collectibles/Antique/Furniture                           1\n",
       "Handmade/Paper Goods/Pad                                           1\n",
       "Handmade/Needlecraft/Clothing                                      1\n",
       "Handmade/Woodworking/Accessories                                   1\n",
       "Handmade/Weddings/Bags and Purses                                  1\n",
       "Handmade/Accessories/Belt                                          1\n",
       "Handmade/Holidays/New Years                                        1\n",
       "Handmade/Geekery/Housewares                                        1\n",
       "Vintage & Collectibles/Housewares/Towel                            1\n",
       "Kids/Safety/Bathroom Safety                                        1\n",
       "Handmade/Housewares/Bathroom                                       1\n",
       "Handmade/Woodworking/Seasonal                                      1\n",
       "Handmade/Others/Educational                                        1\n",
       "Handmade/Dolls and Miniatures/Artist Bears                         1\n",
       "Handmade/Toys/Doll Clothes                                         1\n",
       "Home/Kids' Home Store/Nursery Furniture                            1\n",
       "Handmade/Dolls and Miniatures/Primitive                            1\n",
       "Handmade/Knitting/Bags and Purses                                  1\n",
       "Home/Home Décor/Doorstops                                          1\n",
       "Handmade/Bags and Purses/Other                                     1\n",
       "Handmade/Bags and Purses/Wallet                                    1\n",
       "Handmade/Patterns/Embroidery                                       1\n",
       "Handmade/Quilts/Bed                                                1\n",
       "Handmade/Ceramics and Pottery/Tiles                                1\n",
       "Handmade/Holidays/Thanksgiving                                     1\n",
       "Handmade/Furniture/Shelf                                           1\n",
       "Vintage & Collectibles/Furniture/Other                             1\n",
       "Vintage & Collectibles/Supplies/Ephemera                           1\n",
       "Vintage & Collectibles/Furniture/Storage                           1\n",
       "Name: category_name, Length: 1288, dtype: int64"
      ]
     },
     "execution_count": 28,
     "metadata": {},
     "output_type": "execute_result"
    }
   ],
   "source": [
    "train['category_name'].value_counts()"
   ]
  },
  {
   "cell_type": "code",
   "execution_count": 29,
   "metadata": {
    "_cell_guid": "b59b7c73-48d9-426f-8172-87021f8f882f",
    "_uuid": "2e0c5aabbc2a76f5781661792b0e319449747265",
    "collapsed": true
   },
   "outputs": [],
   "source": [
    "# converting price to log scale\n",
    "positive = train['price'].values > 0\n",
    "negative = train['price'].values < 0\n",
    "train['price'] = np.piecewise(train['price'], (positive, negative), (np.log, lambda x: -np.log(-x)))\n",
    "\n",
    "features = ['int_name',  'cond','int_desc', 'new', 'was_described', 'men', 'rm', 'item_condition_id','cat_lennn',  'brand_name', 'shipping', 'des_len', 'name_len','mean_des', 'word_count', 'mean_name', 'word_name', 'sub1', 'sub2', 'hand', 'elec', 'category_name']\n",
    "\n",
    "data = train[features]\n",
    "data_sub = test[features]\n",
    "\n",
    "y = train['price']"
   ]
  },
  {
   "cell_type": "code",
   "execution_count": 30,
   "metadata": {
    "_cell_guid": "6472dc5d-3d07-4e27-bb26-f614111dbb71",
    "_uuid": "cd62e07eeb98084bd8c40aa9159003292b2bf5f9",
    "collapsed": true
   },
   "outputs": [
    {
     "data": {
      "text/html": [
       "<div>\n",
       "<style>\n",
       "    .dataframe thead tr:only-child th {\n",
       "        text-align: right;\n",
       "    }\n",
       "\n",
       "    .dataframe thead th {\n",
       "        text-align: left;\n",
       "    }\n",
       "\n",
       "    .dataframe tbody tr th {\n",
       "        vertical-align: top;\n",
       "    }\n",
       "</style>\n",
       "<table border=\"1\" class=\"dataframe\">\n",
       "  <thead>\n",
       "    <tr style=\"text-align: right;\">\n",
       "      <th></th>\n",
       "      <th>int_name</th>\n",
       "      <th>cond</th>\n",
       "      <th>int_desc</th>\n",
       "      <th>new</th>\n",
       "      <th>was_described</th>\n",
       "      <th>men</th>\n",
       "      <th>rm</th>\n",
       "      <th>item_condition_id</th>\n",
       "      <th>cat_lennn</th>\n",
       "      <th>brand_name</th>\n",
       "      <th>...</th>\n",
       "      <th>name_len</th>\n",
       "      <th>mean_des</th>\n",
       "      <th>word_count</th>\n",
       "      <th>mean_name</th>\n",
       "      <th>word_name</th>\n",
       "      <th>sub1</th>\n",
       "      <th>sub2</th>\n",
       "      <th>hand</th>\n",
       "      <th>elec</th>\n",
       "      <th>category_name</th>\n",
       "    </tr>\n",
       "  </thead>\n",
       "  <tbody>\n",
       "    <tr>\n",
       "      <th>0</th>\n",
       "      <td>0</td>\n",
       "      <td>0</td>\n",
       "      <td>1</td>\n",
       "      <td>0</td>\n",
       "      <td>1</td>\n",
       "      <td>1</td>\n",
       "      <td>0</td>\n",
       "      <td>1</td>\n",
       "      <td>19</td>\n",
       "      <td>ttttttt</td>\n",
       "      <td>...</td>\n",
       "      <td>40</td>\n",
       "      <td>3.333333</td>\n",
       "      <td>2</td>\n",
       "      <td>2.000000</td>\n",
       "      <td>8</td>\n",
       "      <td>Women</td>\n",
       "      <td>Jewelry</td>\n",
       "      <td>0</td>\n",
       "      <td>0</td>\n",
       "      <td>Women/Jewelry/Rings</td>\n",
       "    </tr>\n",
       "    <tr>\n",
       "      <th>1</th>\n",
       "      <td>1</td>\n",
       "      <td>0</td>\n",
       "      <td>1</td>\n",
       "      <td>1</td>\n",
       "      <td>1</td>\n",
       "      <td>0</td>\n",
       "      <td>0</td>\n",
       "      <td>1</td>\n",
       "      <td>39</td>\n",
       "      <td>ttttttt</td>\n",
       "      <td>...</td>\n",
       "      <td>40</td>\n",
       "      <td>1.513944</td>\n",
       "      <td>38</td>\n",
       "      <td>1.750000</td>\n",
       "      <td>7</td>\n",
       "      <td>Other</td>\n",
       "      <td>Office supplies</td>\n",
       "      <td>0</td>\n",
       "      <td>0</td>\n",
       "      <td>Other/Office supplies/Shipping Supplies</td>\n",
       "    </tr>\n",
       "    <tr>\n",
       "      <th>2</th>\n",
       "      <td>0</td>\n",
       "      <td>0</td>\n",
       "      <td>0</td>\n",
       "      <td>1</td>\n",
       "      <td>1</td>\n",
       "      <td>0</td>\n",
       "      <td>1</td>\n",
       "      <td>1</td>\n",
       "      <td>46</td>\n",
       "      <td>Coach</td>\n",
       "      <td>...</td>\n",
       "      <td>9</td>\n",
       "      <td>2.000000</td>\n",
       "      <td>11</td>\n",
       "      <td>2.222222</td>\n",
       "      <td>2</td>\n",
       "      <td>Vintage &amp; Collectibles</td>\n",
       "      <td>Bags and Purses</td>\n",
       "      <td>0</td>\n",
       "      <td>0</td>\n",
       "      <td>Vintage &amp; Collectibles/Bags and Purses/Handbag</td>\n",
       "    </tr>\n",
       "    <tr>\n",
       "      <th>3</th>\n",
       "      <td>0</td>\n",
       "      <td>0</td>\n",
       "      <td>0</td>\n",
       "      <td>0</td>\n",
       "      <td>1</td>\n",
       "      <td>1</td>\n",
       "      <td>0</td>\n",
       "      <td>2</td>\n",
       "      <td>23</td>\n",
       "      <td>ttttttt</td>\n",
       "      <td>...</td>\n",
       "      <td>13</td>\n",
       "      <td>1.492537</td>\n",
       "      <td>10</td>\n",
       "      <td>1.538462</td>\n",
       "      <td>2</td>\n",
       "      <td>Women</td>\n",
       "      <td>Sweaters</td>\n",
       "      <td>0</td>\n",
       "      <td>0</td>\n",
       "      <td>Women/Sweaters/Cardigan</td>\n",
       "    </tr>\n",
       "    <tr>\n",
       "      <th>4</th>\n",
       "      <td>0</td>\n",
       "      <td>1</td>\n",
       "      <td>1</td>\n",
       "      <td>0</td>\n",
       "      <td>1</td>\n",
       "      <td>0</td>\n",
       "      <td>0</td>\n",
       "      <td>3</td>\n",
       "      <td>35</td>\n",
       "      <td>ttttttt</td>\n",
       "      <td>...</td>\n",
       "      <td>16</td>\n",
       "      <td>1.736527</td>\n",
       "      <td>29</td>\n",
       "      <td>1.875000</td>\n",
       "      <td>3</td>\n",
       "      <td>Other</td>\n",
       "      <td>Books</td>\n",
       "      <td>0</td>\n",
       "      <td>0</td>\n",
       "      <td>Other/Books/Religion &amp; Spirituality</td>\n",
       "    </tr>\n",
       "  </tbody>\n",
       "</table>\n",
       "<p>5 rows × 22 columns</p>\n",
       "</div>"
      ],
      "text/plain": [
       "   int_name  cond  int_desc  new  was_described  men  rm  item_condition_id  \\\n",
       "0         0     0         1    0              1    1   0                  1   \n",
       "1         1     0         1    1              1    0   0                  1   \n",
       "2         0     0         0    1              1    0   1                  1   \n",
       "3         0     0         0    0              1    1   0                  2   \n",
       "4         0     1         1    0              1    0   0                  3   \n",
       "\n",
       "   cat_lennn brand_name                       ...                        \\\n",
       "0         19    ttttttt                       ...                         \n",
       "1         39    ttttttt                       ...                         \n",
       "2         46      Coach                       ...                         \n",
       "3         23    ttttttt                       ...                         \n",
       "4         35    ttttttt                       ...                         \n",
       "\n",
       "   name_len  mean_des  word_count  mean_name  word_name  \\\n",
       "0        40  3.333333           2   2.000000          8   \n",
       "1        40  1.513944          38   1.750000          7   \n",
       "2         9  2.000000          11   2.222222          2   \n",
       "3        13  1.492537          10   1.538462          2   \n",
       "4        16  1.736527          29   1.875000          3   \n",
       "\n",
       "                     sub1             sub2 hand elec  \\\n",
       "0                   Women          Jewelry    0    0   \n",
       "1                   Other  Office supplies    0    0   \n",
       "2  Vintage & Collectibles  Bags and Purses    0    0   \n",
       "3                   Women         Sweaters    0    0   \n",
       "4                   Other            Books    0    0   \n",
       "\n",
       "                                    category_name  \n",
       "0                             Women/Jewelry/Rings  \n",
       "1         Other/Office supplies/Shipping Supplies  \n",
       "2  Vintage & Collectibles/Bags and Purses/Handbag  \n",
       "3                         Women/Sweaters/Cardigan  \n",
       "4             Other/Books/Religion & Spirituality  \n",
       "\n",
       "[5 rows x 22 columns]"
      ]
     },
     "execution_count": 30,
     "metadata": {},
     "output_type": "execute_result"
    }
   ],
   "source": [
    "data_sub.head()"
   ]
  },
  {
   "cell_type": "code",
   "execution_count": 31,
   "metadata": {
    "_cell_guid": "d17b881a-727b-4992-8f99-686aa1438f2b",
    "_uuid": "569d1b1340c35fcacf2f6fa5a4ea5d1c10ca60df",
    "collapsed": true
   },
   "outputs": [
    {
     "name": "stderr",
     "output_type": "stream",
     "text": [
      "/opt/conda/lib/python3.6/site-packages/ipykernel_launcher.py:12: SettingWithCopyWarning: \n",
      "A value is trying to be set on a copy of a slice from a DataFrame.\n",
      "Try using .loc[row_indexer,col_indexer] = value instead\n",
      "\n",
      "See the caveats in the documentation: http://pandas.pydata.org/pandas-docs/stable/indexing.html#indexing-view-versus-copy\n",
      "  if sys.path[0] == '':\n",
      "/opt/conda/lib/python3.6/site-packages/ipykernel_launcher.py:13: SettingWithCopyWarning: \n",
      "A value is trying to be set on a copy of a slice from a DataFrame.\n",
      "Try using .loc[row_indexer,col_indexer] = value instead\n",
      "\n",
      "See the caveats in the documentation: http://pandas.pydata.org/pandas-docs/stable/indexing.html#indexing-view-versus-copy\n",
      "  del sys.path[0]\n"
     ]
    }
   ],
   "source": [
    "#label encoding\n",
    "from sklearn import preprocessing\n",
    "le = preprocessing.LabelEncoder()\n",
    "\n",
    "frames = [ data, data_sub ]\n",
    "xx = pd.concat(frames)\n",
    "\n",
    "\n",
    "l = [ 'brand_name', 'sub1', 'sub2', 'category_name']\n",
    "for x in l :\n",
    "    le.fit(xx[x])\n",
    "    data[x] = le.transform(data[x])\n",
    "    data_sub[x] = le.transform(data_sub[x])\n"
   ]
  },
  {
   "cell_type": "code",
   "execution_count": 32,
   "metadata": {
    "_cell_guid": "d03dbc2f-6a72-42a7-b982-5516830ae98d",
    "_uuid": "698c95e036d5ca61da43f908deb49f6b5b62c1a1",
    "collapsed": true
   },
   "outputs": [
    {
     "data": {
      "text/html": [
       "<div>\n",
       "<style>\n",
       "    .dataframe thead tr:only-child th {\n",
       "        text-align: right;\n",
       "    }\n",
       "\n",
       "    .dataframe thead th {\n",
       "        text-align: left;\n",
       "    }\n",
       "\n",
       "    .dataframe tbody tr th {\n",
       "        vertical-align: top;\n",
       "    }\n",
       "</style>\n",
       "<table border=\"1\" class=\"dataframe\">\n",
       "  <thead>\n",
       "    <tr style=\"text-align: right;\">\n",
       "      <th></th>\n",
       "      <th>int_name</th>\n",
       "      <th>cond</th>\n",
       "      <th>int_desc</th>\n",
       "      <th>new</th>\n",
       "      <th>was_described</th>\n",
       "      <th>men</th>\n",
       "      <th>rm</th>\n",
       "      <th>item_condition_id</th>\n",
       "      <th>cat_lennn</th>\n",
       "      <th>brand_name</th>\n",
       "      <th>...</th>\n",
       "      <th>name_len</th>\n",
       "      <th>mean_des</th>\n",
       "      <th>word_count</th>\n",
       "      <th>mean_name</th>\n",
       "      <th>word_name</th>\n",
       "      <th>sub1</th>\n",
       "      <th>sub2</th>\n",
       "      <th>hand</th>\n",
       "      <th>elec</th>\n",
       "      <th>category_name</th>\n",
       "    </tr>\n",
       "  </thead>\n",
       "  <tbody>\n",
       "    <tr>\n",
       "      <th>0</th>\n",
       "      <td>0</td>\n",
       "      <td>0</td>\n",
       "      <td>0</td>\n",
       "      <td>0</td>\n",
       "      <td>0</td>\n",
       "      <td>1</td>\n",
       "      <td>0</td>\n",
       "      <td>3</td>\n",
       "      <td>17</td>\n",
       "      <td>5287</td>\n",
       "      <td>...</td>\n",
       "      <td>35</td>\n",
       "      <td>1.666667</td>\n",
       "      <td>3</td>\n",
       "      <td>2.000000</td>\n",
       "      <td>7</td>\n",
       "      <td>5</td>\n",
       "      <td>102</td>\n",
       "      <td>0</td>\n",
       "      <td>0</td>\n",
       "      <td>829</td>\n",
       "    </tr>\n",
       "    <tr>\n",
       "      <th>1</th>\n",
       "      <td>0</td>\n",
       "      <td>1</td>\n",
       "      <td>0</td>\n",
       "      <td>0</td>\n",
       "      <td>1</td>\n",
       "      <td>0</td>\n",
       "      <td>0</td>\n",
       "      <td>3</td>\n",
       "      <td>50</td>\n",
       "      <td>3889</td>\n",
       "      <td>...</td>\n",
       "      <td>32</td>\n",
       "      <td>1.914894</td>\n",
       "      <td>36</td>\n",
       "      <td>1.250000</td>\n",
       "      <td>4</td>\n",
       "      <td>1</td>\n",
       "      <td>30</td>\n",
       "      <td>0</td>\n",
       "      <td>1</td>\n",
       "      <td>86</td>\n",
       "    </tr>\n",
       "    <tr>\n",
       "      <th>2</th>\n",
       "      <td>0</td>\n",
       "      <td>0</td>\n",
       "      <td>1</td>\n",
       "      <td>0</td>\n",
       "      <td>1</td>\n",
       "      <td>1</td>\n",
       "      <td>0</td>\n",
       "      <td>1</td>\n",
       "      <td>27</td>\n",
       "      <td>4588</td>\n",
       "      <td>...</td>\n",
       "      <td>14</td>\n",
       "      <td>2.338710</td>\n",
       "      <td>29</td>\n",
       "      <td>1.428571</td>\n",
       "      <td>2</td>\n",
       "      <td>9</td>\n",
       "      <td>103</td>\n",
       "      <td>0</td>\n",
       "      <td>0</td>\n",
       "      <td>1277</td>\n",
       "    </tr>\n",
       "    <tr>\n",
       "      <th>3</th>\n",
       "      <td>0</td>\n",
       "      <td>0</td>\n",
       "      <td>0</td>\n",
       "      <td>1</td>\n",
       "      <td>1</td>\n",
       "      <td>0</td>\n",
       "      <td>1</td>\n",
       "      <td>1</td>\n",
       "      <td>34</td>\n",
       "      <td>5287</td>\n",
       "      <td>...</td>\n",
       "      <td>21</td>\n",
       "      <td>1.849711</td>\n",
       "      <td>32</td>\n",
       "      <td>1.428571</td>\n",
       "      <td>3</td>\n",
       "      <td>3</td>\n",
       "      <td>55</td>\n",
       "      <td>0</td>\n",
       "      <td>0</td>\n",
       "      <td>503</td>\n",
       "    </tr>\n",
       "    <tr>\n",
       "      <th>4</th>\n",
       "      <td>1</td>\n",
       "      <td>0</td>\n",
       "      <td>0</td>\n",
       "      <td>0</td>\n",
       "      <td>1</td>\n",
       "      <td>1</td>\n",
       "      <td>0</td>\n",
       "      <td>1</td>\n",
       "      <td>23</td>\n",
       "      <td>5287</td>\n",
       "      <td>...</td>\n",
       "      <td>20</td>\n",
       "      <td>1.219512</td>\n",
       "      <td>5</td>\n",
       "      <td>2.000000</td>\n",
       "      <td>4</td>\n",
       "      <td>9</td>\n",
       "      <td>58</td>\n",
       "      <td>0</td>\n",
       "      <td>0</td>\n",
       "      <td>1204</td>\n",
       "    </tr>\n",
       "  </tbody>\n",
       "</table>\n",
       "<p>5 rows × 22 columns</p>\n",
       "</div>"
      ],
      "text/plain": [
       "   int_name  cond  int_desc  new  was_described  men  rm  item_condition_id  \\\n",
       "0         0     0         0    0              0    1   0                  3   \n",
       "1         0     1         0    0              1    0   0                  3   \n",
       "2         0     0         1    0              1    1   0                  1   \n",
       "3         0     0         0    1              1    0   1                  1   \n",
       "4         1     0         0    0              1    1   0                  1   \n",
       "\n",
       "   cat_lennn  brand_name      ...        name_len  mean_des  word_count  \\\n",
       "0         17        5287      ...              35  1.666667           3   \n",
       "1         50        3889      ...              32  1.914894          36   \n",
       "2         27        4588      ...              14  2.338710          29   \n",
       "3         34        5287      ...              21  1.849711          32   \n",
       "4         23        5287      ...              20  1.219512           5   \n",
       "\n",
       "   mean_name  word_name  sub1  sub2  hand  elec  category_name  \n",
       "0   2.000000          7     5   102     0     0            829  \n",
       "1   1.250000          4     1    30     0     1             86  \n",
       "2   1.428571          2     9   103     0     0           1277  \n",
       "3   1.428571          3     3    55     0     0            503  \n",
       "4   2.000000          4     9    58     0     0           1204  \n",
       "\n",
       "[5 rows x 22 columns]"
      ]
     },
     "execution_count": 32,
     "metadata": {},
     "output_type": "execute_result"
    }
   ],
   "source": [
    "data.head()"
   ]
  },
  {
   "cell_type": "code",
   "execution_count": 33,
   "metadata": {
    "_cell_guid": "1267de52-63f7-49a6-82b5-4be96aeb032b",
    "_uuid": "ecb3178755983648cd2f5130ecaf006098d5567e",
    "collapsed": true
   },
   "outputs": [
    {
     "name": "stdout",
     "output_type": "stream",
     "text": [
      "      Iter       Train Loss   Remaining Time \n",
      "         1           0.5617           52.95m\n",
      "         2           0.5379           46.01m\n",
      "         3           0.5214           47.16m\n",
      "         4           0.5097           48.03m\n",
      "         5           0.5012           48.35m\n",
      "         6           0.4948           48.01m\n",
      "         7           0.4906           47.97m\n",
      "         8           0.4848           47.50m\n",
      "         9           0.4769           47.59m\n",
      "        10           0.4735           47.20m\n",
      "        20           0.4459           43.96m\n",
      "        30           0.4304           43.34m\n",
      "        40           0.4168           42.38m\n",
      "        50           0.4077           41.23m\n",
      "        60           0.4014           40.31m\n",
      "        70           0.3965           39.37m\n",
      "        80           0.3918           38.66m\n",
      "        90           0.3858           37.92m\n",
      "       100           0.3829           37.15m\n",
      "       200           0.3612           30.45m\n",
      "       300           0.3521           24.06m\n",
      "       400           0.3457           18.09m\n",
      "       500           0.3405           12.27m\n",
      "       600           0.3374            6.13m\n",
      "       700           0.3350            0.00s\n"
     ]
    },
    {
     "data": {
      "text/plain": [
       "GradientBoostingRegressor(alpha=0.9, criterion='friedman_mse', init=None,\n",
       "             learning_rate=0.7, loss='ls', max_depth=3, max_features=0.8,\n",
       "             max_leaf_nodes=None, min_impurity_decrease=0.0,\n",
       "             min_impurity_split=None, min_samples_leaf=1,\n",
       "             min_samples_split=2, min_weight_fraction_leaf=0.0,\n",
       "             n_estimators=700, presort='auto', random_state=45,\n",
       "             subsample=1.0, verbose=1, warm_start=True)"
      ]
     },
     "execution_count": 33,
     "metadata": {},
     "output_type": "execute_result"
    }
   ],
   "source": [
    "from sklearn import ensemble\n",
    "clf =  ensemble.GradientBoostingRegressor( learning_rate = 0.7, n_estimators=700, max_depth = 3,warm_start = True, verbose=1, random_state=45, max_features = 0.8)\n",
    "clf.fit(data, y)\n"
   ]
  },
  {
   "cell_type": "code",
   "execution_count": 34,
   "metadata": {
    "_cell_guid": "f9eaf848-55b1-4266-82bd-26edffcb0b12",
    "_uuid": "9a0777d5e9b6edaf4e1b52913578c6171c002e66",
    "collapsed": true
   },
   "outputs": [
    {
     "name": "stdout",
     "output_type": "stream",
     "text": [
      "['int_name', 'cond', 'int_desc', 'new', 'was_described', 'men', 'rm', 'item_condition_id', 'cat_lennn', 'brand_name', 'shipping', 'des_len', 'name_len', 'mean_des', 'word_count', 'mean_name', 'word_name', 'sub1', 'sub2', 'hand', 'elec', 'category_name']\n",
      "[ 0.01619746  0.00570796  0.01622108  0.01096618  0.00108968  0.00628054\n",
      "  0.00936334  0.04015075  0.09132368  0.31128848  0.03036243  0.03771549\n",
      "  0.02539165  0.0276034   0.02471134  0.0275539   0.01060858  0.00996127\n",
      "  0.07815146  0.00426548  0.00933585  0.20575001]\n"
     ]
    }
   ],
   "source": [
    "# predicting and saving to output file\n",
    "predicted = clf.predict(data_sub) \n",
    "\n",
    "print(features)\n",
    "print( clf.feature_importances_)"
   ]
  },
  {
   "cell_type": "code",
   "execution_count": 35,
   "metadata": {
    "_cell_guid": "11831fc5-042e-4f35-88e0-df785a5c5021",
    "_uuid": "27aff5bcec08d348a76ad05e05afd3b4f0933f47",
    "collapsed": true
   },
   "outputs": [],
   "source": [
    "out = pd.DataFrame()"
   ]
  },
  {
   "cell_type": "code",
   "execution_count": 36,
   "metadata": {
    "_cell_guid": "e6f5346c-f87f-4576-b275-e33cc730b48c",
    "_uuid": "b2d0a7b7fa513c35596959c08f577de0081c9172",
    "collapsed": true
   },
   "outputs": [],
   "source": [
    "#sample = pd.read_csv('../input/sample_submission.csv')"
   ]
  },
  {
   "cell_type": "code",
   "execution_count": 37,
   "metadata": {
    "_cell_guid": "af0cd58f-107d-4721-bc15-85df74e8c604",
    "_uuid": "7724ad25f13c815522670cdff914f840884cd30b",
    "collapsed": true
   },
   "outputs": [],
   "source": [
    "out['test_id'] = test['test_id']\n",
    "out['price'] = predicted\n",
    "out['price'] = np.exp(out['price'])"
   ]
  },
  {
   "cell_type": "code",
   "execution_count": 38,
   "metadata": {
    "_cell_guid": "c5b42ebe-b0e3-48bf-bb99-5cc43c1b6772",
    "_uuid": "39eeedcb2471e1f97e4a457cb3ca863a4440e166",
    "collapsed": true
   },
   "outputs": [],
   "source": [
    "out.head()\n",
    "out.to_csv(\"output5.csv\",index=False)"
   ]
  }
 ],
 "metadata": {
  "kernelspec": {
   "display_name": "Python 3",
   "language": "python",
   "name": "python3"
  },
  "language_info": {
   "codemirror_mode": {
    "name": "ipython",
    "version": 3
   },
   "file_extension": ".py",
   "mimetype": "text/x-python",
   "name": "python",
   "nbconvert_exporter": "python",
   "pygments_lexer": "ipython3",
   "version": "3.7.4"
  }
 },
 "nbformat": 4,
 "nbformat_minor": 1
}
